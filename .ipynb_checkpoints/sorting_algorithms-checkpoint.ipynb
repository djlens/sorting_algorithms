{
 "cells": [
  {
   "cell_type": "code",
   "execution_count": 196,
   "metadata": {},
   "outputs": [],
   "source": [
    "def bubble_sort(arr):\n",
    "    is_sorted = False\n",
    "    while not is_sorted:\n",
    "        is_sorted = True\n",
    "        for i in range(len(arr) - 1):\n",
    "            if arr[i] > arr[i+1]:\n",
    "                arr[i], arr[i+1] = arr[i+1], arr[i]\n",
    "                is_sorted = False"
   ]
  },
  {
   "cell_type": "code",
   "execution_count": 267,
   "metadata": {},
   "outputs": [],
   "source": [
    "def selection_sort(arr):\n",
    "    for i in range(len(arr) - 1):\n",
    "        min_val = i\n",
    "        for j in range(i + 1, len(arr)):\n",
    "            if arr[j] < arr[min_val]:\n",
    "                min_val = j\n",
    "        if min_val != i:\n",
    "            arr[i], arr[min_val] = arr[min_val], arr[i]"
   ]
  },
  {
   "cell_type": "code",
   "execution_count": 306,
   "metadata": {},
   "outputs": [],
   "source": [
    "def insertion_sort(arr):\n",
    "    index_length = range(1, len(arr))\n",
    "    \n",
    "    for i in index_length:\n",
    "        \n",
    "        while arr[i] < arr[i-1] and i > 0:\n",
    "            arr[i - 1], arr[i] = arr[i], arr[i - 1]\n",
    "            i = i - 1"
   ]
  },
  {
   "cell_type": "code",
   "execution_count": 307,
   "metadata": {},
   "outputs": [],
   "source": [
    "def insertion_sort_recursive(arr): \n",
    "    def swap(index):\n",
    "        if index == 0: return\n",
    "\n",
    "        if arr[index] < arr[index-1]:\n",
    "            arr[index], arr[index-1] = arr[index - 1], arr[index]\n",
    "            swap(index - 1)\n",
    "    \n",
    "    index_length = range(1, len(arr))\n",
    "    for index in index_length:\n",
    "        swap(index)"
   ]
  }
 ],
 "metadata": {
  "kernelspec": {
   "display_name": "Python 3",
   "language": "python",
   "name": "python3"
  },
  "language_info": {
   "codemirror_mode": {
    "name": "ipython",
    "version": 3
   },
   "file_extension": ".py",
   "mimetype": "text/x-python",
   "name": "python",
   "nbconvert_exporter": "python",
   "pygments_lexer": "ipython3",
   "version": "3.7.6"
  }
 },
 "nbformat": 4,
 "nbformat_minor": 4
}
